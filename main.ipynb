{
 "cells": [
  {
   "cell_type": "markdown",
   "id": "34c7fd1a-8c34-4bbc-8f86-1ccae3caabd5",
   "metadata": {},
   "source": [
    "# 1. Import demanding packages"
   ]
  },
  {
   "cell_type": "code",
   "execution_count": 1,
   "id": "bfcc1647-290a-4235-be50-5dfb4bc78d39",
   "metadata": {},
   "outputs": [],
   "source": [
    "import ee\n",
    "import geemap\n",
    "import pandas as pd\n",
    "import numpy as np\n",
    "from sklearn.discriminant_analysis import LinearDiscriminantAnalysis"
   ]
  },
  {
   "cell_type": "markdown",
   "id": "1521ce3c-d051-4937-98f0-eabec3034e85",
   "metadata": {},
   "source": [
    "# 2. Authenticate geemap"
   ]
  },
  {
   "cell_type": "code",
   "execution_count": 2,
   "id": "26272594-0d7b-4c9f-bada-7fea119ac6ab",
   "metadata": {},
   "outputs": [
    {
     "data": {
      "text/html": [
       "\n",
       "            <style>\n",
       "                .geemap-dark {\n",
       "                    --jp-widgets-color: white;\n",
       "                    --jp-widgets-label-color: white;\n",
       "                    --jp-ui-font-color1: white;\n",
       "                    --jp-layout-color2: #454545;\n",
       "                    background-color: #383838;\n",
       "                }\n",
       "                    \n",
       "                .geemap-dark .jupyter-button {\n",
       "                    --jp-layout-color3: #383838;\n",
       "                }\n",
       "                \n",
       "                .geemap-colab {\n",
       "                    background-color: var(--colab-primary-surface-color, white);\n",
       "                }\n",
       "                    \n",
       "                .geemap-colab .jupyter-button {\n",
       "                    --jp-layout-color3: var(--colab-primary-surface-color, white);\n",
       "                }\n",
       "            </style>\n",
       "            "
      ],
      "text/plain": [
       "<IPython.core.display.HTML object>"
      ]
     },
     "metadata": {},
     "output_type": "display_data"
    },
    {
     "data": {
      "text/plain": [
       "True"
      ]
     },
     "execution_count": 2,
     "metadata": {},
     "output_type": "execute_result"
    }
   ],
   "source": [
    "ee.Authenticate()"
   ]
  },
  {
   "cell_type": "code",
   "execution_count": 3,
   "id": "3240b2ec-b7a1-4f84-844a-fcb7cca1aa56",
   "metadata": {},
   "outputs": [
    {
     "data": {
      "text/html": [
       "\n",
       "            <style>\n",
       "                .geemap-dark {\n",
       "                    --jp-widgets-color: white;\n",
       "                    --jp-widgets-label-color: white;\n",
       "                    --jp-ui-font-color1: white;\n",
       "                    --jp-layout-color2: #454545;\n",
       "                    background-color: #383838;\n",
       "                }\n",
       "                    \n",
       "                .geemap-dark .jupyter-button {\n",
       "                    --jp-layout-color3: #383838;\n",
       "                }\n",
       "                \n",
       "                .geemap-colab {\n",
       "                    background-color: var(--colab-primary-surface-color, white);\n",
       "                }\n",
       "                    \n",
       "                .geemap-colab .jupyter-button {\n",
       "                    --jp-layout-color3: var(--colab-primary-surface-color, white);\n",
       "                }\n",
       "            </style>\n",
       "            "
      ],
      "text/plain": [
       "<IPython.core.display.HTML object>"
      ]
     },
     "metadata": {},
     "output_type": "display_data"
    }
   ],
   "source": [
    "geemap.set_proxy(port=7890)"
   ]
  },
  {
   "cell_type": "code",
   "execution_count": 4,
   "id": "395703e0-2b9b-41fa-85f2-e20a5725514d",
   "metadata": {},
   "outputs": [
    {
     "data": {
      "text/html": [
       "\n",
       "            <style>\n",
       "                .geemap-dark {\n",
       "                    --jp-widgets-color: white;\n",
       "                    --jp-widgets-label-color: white;\n",
       "                    --jp-ui-font-color1: white;\n",
       "                    --jp-layout-color2: #454545;\n",
       "                    background-color: #383838;\n",
       "                }\n",
       "                    \n",
       "                .geemap-dark .jupyter-button {\n",
       "                    --jp-layout-color3: #383838;\n",
       "                }\n",
       "                \n",
       "                .geemap-colab {\n",
       "                    background-color: var(--colab-primary-surface-color, white);\n",
       "                }\n",
       "                    \n",
       "                .geemap-colab .jupyter-button {\n",
       "                    --jp-layout-color3: var(--colab-primary-surface-color, white);\n",
       "                }\n",
       "            </style>\n",
       "            "
      ],
      "text/plain": [
       "<IPython.core.display.HTML object>"
      ]
     },
     "metadata": {},
     "output_type": "display_data"
    },
    {
     "data": {
      "application/vnd.jupyter.widget-view+json": {
       "model_id": "87018f9bfd74428fafb48a16da374052",
       "version_major": 2,
       "version_minor": 0
      },
      "text/plain": [
       "Map(center=[0, 0], controls=(WidgetControl(options=['position', 'transparent_bg'], widget=SearchDataGUI(childr…"
      ]
     },
     "execution_count": 4,
     "metadata": {},
     "output_type": "execute_result"
    }
   ],
   "source": [
    "Map = geemap.Map()\n",
    "Map"
   ]
  },
  {
   "cell_type": "markdown",
   "id": "6b95fcc8-a77b-4f46-b497-ef1f29a86af0",
   "metadata": {},
   "source": [
    "# 3. Define functioins of BAESCM"
   ]
  },
  {
   "cell_type": "code",
   "execution_count": 5,
   "id": "9ad5e509-6510-477f-b9d0-c746dd600b69",
   "metadata": {},
   "outputs": [
    {
     "data": {
      "text/html": [
       "\n",
       "            <style>\n",
       "                .geemap-dark {\n",
       "                    --jp-widgets-color: white;\n",
       "                    --jp-widgets-label-color: white;\n",
       "                    --jp-ui-font-color1: white;\n",
       "                    --jp-layout-color2: #454545;\n",
       "                    background-color: #383838;\n",
       "                }\n",
       "                    \n",
       "                .geemap-dark .jupyter-button {\n",
       "                    --jp-layout-color3: #383838;\n",
       "                }\n",
       "                \n",
       "                .geemap-colab {\n",
       "                    background-color: var(--colab-primary-surface-color, white);\n",
       "                }\n",
       "                    \n",
       "                .geemap-colab .jupyter-button {\n",
       "                    --jp-layout-color3: var(--colab-primary-surface-color, white);\n",
       "                }\n",
       "            </style>\n",
       "            "
      ],
      "text/plain": [
       "<IPython.core.display.HTML object>"
      ]
     },
     "metadata": {},
     "output_type": "display_data"
    }
   ],
   "source": [
    "def mask_s2_clouds(image):\n",
    "  \"\"\" Mask clouds in a Sentinel-2 image using the QA band.\n",
    "\n",
    "  Args:\n",
    "      image (ee.Image): A Sentinel-2 image.\n",
    "\n",
    "  Returns:\n",
    "      ee.Image: A cloud-masked Sentinel-2 image.\n",
    "  \"\"\"\n",
    "  qa = image.select('QA60')\n",
    "\n",
    "  # Bits 10 and 11 are clouds and cirrus, respectively.\n",
    "  cloud_bit_mask = 1 << 10\n",
    "  cirrus_bit_mask = 1 << 11\n",
    "\n",
    "  # Both flags should be set to zero, indicating clear conditions.\n",
    "  mask = (\n",
    "      qa.bitwiseAnd(cloud_bit_mask)\n",
    "      .eq(0)\n",
    "      .And(qa.bitwiseAnd(cirrus_bit_mask).eq(0))\n",
    "  )\n",
    "\n",
    "  return image.updateMask(mask).divide(10000)"
   ]
  },
  {
   "cell_type": "code",
   "execution_count": 6,
   "id": "57b80082-8f17-47fc-9147-2d0a230cc7c1",
   "metadata": {},
   "outputs": [
    {
     "data": {
      "text/html": [
       "\n",
       "            <style>\n",
       "                .geemap-dark {\n",
       "                    --jp-widgets-color: white;\n",
       "                    --jp-widgets-label-color: white;\n",
       "                    --jp-ui-font-color1: white;\n",
       "                    --jp-layout-color2: #454545;\n",
       "                    background-color: #383838;\n",
       "                }\n",
       "                    \n",
       "                .geemap-dark .jupyter-button {\n",
       "                    --jp-layout-color3: #383838;\n",
       "                }\n",
       "                \n",
       "                .geemap-colab {\n",
       "                    background-color: var(--colab-primary-surface-color, white);\n",
       "                }\n",
       "                    \n",
       "                .geemap-colab .jupyter-button {\n",
       "                    --jp-layout-color3: var(--colab-primary-surface-color, white);\n",
       "                }\n",
       "            </style>\n",
       "            "
      ],
      "text/plain": [
       "<IPython.core.display.HTML object>"
      ]
     },
     "metadata": {},
     "output_type": "display_data"
    }
   ],
   "source": [
    "def merge_clusters(df):\n",
    "    \"\"\"\n",
    "    Merge clusters based on clusterID and record the merging process.\n",
    "\n",
    "    Args:\n",
    "    - df: A DataFrame containing cluster information.\n",
    "      Must include:\n",
    "        - ClusterID\n",
    "        - Cluster center values (mean values of each band).\n",
    "        - Cluster size (total pixel number in the cluster).\n",
    "        - Sample count (total number of samples in the cluster).\n",
    "\n",
    "    Returns:\n",
    "    - df: Merged DataFrame with updated clusterID and merge history.\n",
    "    \"\"\"\n",
    "    df['clusterID'] = df['clusterID'].astype(int).astype(str)  # Convert clusterID column to string\n",
    "    df['merged_clusters'] = df['clusterID'].apply(lambda x: [x])  # Add a column to record the merging process, initial value is clusterID\n",
    "\n",
    "    centers_columns = [\"B2\", \"B3\", \"B4\", \"B5\", \"B6\", \"B7\", \"B8\", \"B8A\", \"B11\", \"B12\", \"NDVI\", \"lda\"]  # All bands used for clustering\n",
    "\n",
    "    while True:\n",
    "        # Find clusters with sample count less than 2\n",
    "        small_clusters = df[df['sample_count'] < 2]\n",
    "\n",
    "        if small_clusters.empty:\n",
    "            # All clusters have sample count >= 2, exit\n",
    "            break\n",
    "\n",
    "        for _, small_cluster in small_clusters.iterrows():\n",
    "            # Get the clusterID of the current small cluster\n",
    "            small_cluster_id = small_cluster['clusterID']\n",
    "\n",
    "            # Calculate the distance from the current cluster to other clusters' centers\n",
    "            other_clusters = df[df['clusterID'] != small_cluster_id]\n",
    "\n",
    "            distances = np.linalg.norm(\n",
    "                other_clusters[centers_columns].values - small_cluster[centers_columns].values.astype(np.float64), axis=1\n",
    "            )\n",
    "            # Find the nearest cluster\n",
    "            closest_index = np.argmin(distances)\n",
    "            closest_cluster = other_clusters.iloc[closest_index]\n",
    "            closest_cluster_id = closest_cluster['clusterID']\n",
    "\n",
    "            # Merge the small cluster into the nearest cluster\n",
    "            total_size = small_cluster['size'] + closest_cluster['size']\n",
    "            total_sample_count = small_cluster['sample_count'] + closest_cluster['sample_count']\n",
    "\n",
    "            total_num0 = small_cluster['num0'] + closest_cluster['num0']\n",
    "            total_num1 = small_cluster['num1'] + closest_cluster['num1']\n",
    "            total_a11 = small_cluster['a11'] + closest_cluster['a11']\n",
    "            total_a12 = small_cluster['a12'] + closest_cluster['a12']\n",
    "            total_a21 = small_cluster['a21'] + closest_cluster['a21']\n",
    "            total_a22 = small_cluster['a22'] + closest_cluster['a22']\n",
    "            total_sample_count0 = small_cluster['sample_count0'] + closest_cluster['sample_count0']\n",
    "            total_sample_count1 = small_cluster['sample_count1'] + closest_cluster['sample_count1']\n",
    "\n",
    "            # Calculate the new cluster center (weighted average)\n",
    "            new_center = (small_cluster[centers_columns] * small_cluster['size'] +\n",
    "                          closest_cluster[centers_columns] * closest_cluster['size']) / total_size\n",
    "\n",
    "            # Update the target cluster information\n",
    "            df.loc[df['clusterID'] == closest_cluster_id, centers_columns] = new_center.values\n",
    "            df.loc[df['clusterID'] == closest_cluster_id, 'size'] = total_size\n",
    "            df.loc[df['clusterID'] == closest_cluster_id, 'sample_count'] = total_sample_count\n",
    "\n",
    "            df.loc[df['clusterID'] == closest_cluster_id, 'num0'] = total_num0\n",
    "            df.loc[df['clusterID'] == closest_cluster_id, 'num1'] = total_num1\n",
    "            df.loc[df['clusterID'] == closest_cluster_id, 'a11'] = total_a11\n",
    "            df.loc[df['clusterID'] == closest_cluster_id, 'a12'] = total_a12\n",
    "            df.loc[df['clusterID'] == closest_cluster_id, 'a21'] = total_a21\n",
    "            df.loc[df['clusterID'] == closest_cluster_id, 'a22'] = total_a22\n",
    "            df.loc[df['clusterID'] == closest_cluster_id, 'sample_count0'] = total_sample_count0\n",
    "            df.loc[df['clusterID'] == closest_cluster_id, 'sample_count1'] = total_sample_count1\n",
    "\n",
    "            # Update the merging history\n",
    "            merged_history = df.loc[df['clusterID'] == closest_cluster_id, 'merged_clusters'].values[0]\n",
    "            updated_history = merged_history + [small_cluster_id]\n",
    "            # Get the target row index\n",
    "            target_index = df[df['clusterID'] == closest_cluster_id].index[0]\n",
    "            # Use .at to ensure updating the specific cell\n",
    "            df.at[target_index, 'merged_clusters'] = updated_history\n",
    "\n",
    "            # Delete the current small cluster\n",
    "            df = df[df['clusterID'] != small_cluster_id].reset_index(drop=True)\n",
    "\n",
    "            # Exit the loop and recheck due to index changes\n",
    "            break\n",
    "    return df"
   ]
  },
  {
   "cell_type": "code",
   "execution_count": 7,
   "id": "859afed1-456a-45e1-a469-dad6c0e1c4ee",
   "metadata": {},
   "outputs": [
    {
     "data": {
      "text/html": [
       "\n",
       "            <style>\n",
       "                .geemap-dark {\n",
       "                    --jp-widgets-color: white;\n",
       "                    --jp-widgets-label-color: white;\n",
       "                    --jp-ui-font-color1: white;\n",
       "                    --jp-layout-color2: #454545;\n",
       "                    background-color: #383838;\n",
       "                }\n",
       "                    \n",
       "                .geemap-dark .jupyter-button {\n",
       "                    --jp-layout-color3: #383838;\n",
       "                }\n",
       "                \n",
       "                .geemap-colab {\n",
       "                    background-color: var(--colab-primary-surface-color, white);\n",
       "                }\n",
       "                    \n",
       "                .geemap-colab .jupyter-button {\n",
       "                    --jp-layout-color3: var(--colab-primary-surface-color, white);\n",
       "                }\n",
       "            </style>\n",
       "            "
      ],
      "text/plain": [
       "<IPython.core.display.HTML object>"
      ]
     },
     "metadata": {},
     "output_type": "display_data"
    }
   ],
   "source": [
    "def process_matrix(df):\n",
    "    \"\"\"\n",
    "    Correct the confusion matrix constructed from non-probabilistic samples.\n",
    "\n",
    "    Args:\n",
    "    -df: DataFrame containing the confusion matrix to be corrected and layer weights.\n",
    "    \n",
    "    Returns:\n",
    "    -df: DataFrame with corrected values.\n",
    "    \"\"\"\n",
    "    file_matrix = df[['clusterID', 'a11', 'a12', 'a21', 'a22', 'num0', 'num1', 'size', 'sampling_var']].copy()\n",
    "\n",
    "    # Apply weighted correction to non-target layers. If no samples fall into this layer, assign 0.5 initially, then apply weight to ensure the final confusion matrix sums to 1.\n",
    "    file_matrix['p11'] = file_matrix.apply(lambda row: 0.5 * row['num0'] / row['size'] if row['a11'] == 0 and row['a12'] == 0 \n",
    "                                            else row['a11'] / (row['a11'] + row['a12']) * row['num0'] / row['size'], axis=1)\n",
    "    file_matrix['p12'] = file_matrix.apply(lambda row: 0.5 * row['num0'] / row['size'] if row['a11'] == 0 and row['a12'] == 0 \n",
    "                                            else row['a12'] / (row['a11'] + row['a12']) * row['num0'] / row['size'], axis=1)\n",
    "\n",
    "    # Apply weighted correction to target layers. If no samples fall into this layer, assign 0.5 initially, then apply weight to ensure the final confusion matrix sums to 1.\n",
    "    file_matrix['p21'] = file_matrix.apply(lambda row: 0.5 * row['num1'] / row['size'] if row['a21'] == 0 and row['a22'] == 0 \n",
    "                                            else row['a21'] / (row['a21'] + row['a22']) * row['num1'] / row['size'], axis=1)\n",
    "    file_matrix['p22'] = file_matrix.apply(lambda row: 0.5 * row['num1'] / row['size'] if row['a21'] == 0 and row['a22'] == 0 \n",
    "                                            else row['a22'] / (row['a21'] + row['a22']) * row['num1'] / row['size'], axis=1)\n",
    "\n",
    "    return file_matrix"
   ]
  },
  {
   "cell_type": "code",
   "execution_count": 8,
   "id": "f0bd7b70-de28-438a-a4ec-69533cfb2b68",
   "metadata": {},
   "outputs": [
    {
     "data": {
      "text/html": [
       "\n",
       "            <style>\n",
       "                .geemap-dark {\n",
       "                    --jp-widgets-color: white;\n",
       "                    --jp-widgets-label-color: white;\n",
       "                    --jp-ui-font-color1: white;\n",
       "                    --jp-layout-color2: #454545;\n",
       "                    background-color: #383838;\n",
       "                }\n",
       "                    \n",
       "                .geemap-dark .jupyter-button {\n",
       "                    --jp-layout-color3: #383838;\n",
       "                }\n",
       "                \n",
       "                .geemap-colab {\n",
       "                    background-color: var(--colab-primary-surface-color, white);\n",
       "                }\n",
       "                    \n",
       "                .geemap-colab .jupyter-button {\n",
       "                    --jp-layout-color3: var(--colab-primary-surface-color, white);\n",
       "                }\n",
       "            </style>\n",
       "            "
      ],
      "text/plain": [
       "<IPython.core.display.HTML object>"
      ]
     },
     "metadata": {},
     "output_type": "display_data"
    }
   ],
   "source": [
    "def compute_cluster_percentage(feature):\n",
    "    \"\"\"\n",
    "    Calculate the number of different cluster categories within each county.\n",
    "\n",
    "    Args:\n",
    "    -feature: subregional feature\n",
    "\n",
    "    Returns:\n",
    "    -feature: subregional feature with cluster component\n",
    "    \n",
    "    \"\"\"\n",
    "    histogram = cluster_result.reduceRegion(\n",
    "        reducer=ee.Reducer.fixedHistogram(0, cluster_num, cluster_num),\n",
    "        geometry=feature.geometry(),\n",
    "        scale=10,\n",
    "        crs='EPSG:32615',\n",
    "        maxPixels=1e11\n",
    "    ).get('cluster')  # Get the histogram result\n",
    "\n",
    "    # Extract the histogram data\n",
    "    key_list = ee.List(ee.Array(histogram).slice(1, 0, 1).toList().flatten())  # First column: category index\n",
    "    value_list = ee.List(ee.Array(histogram).slice(1, 1, 2).toList().flatten())  # Second column: category count\n",
    "\n",
    "    # Convert category indexes to strings\n",
    "    string_list = key_list.map(lambda value: ee.String(ee.Number(value).int().format()))\n",
    "\n",
    "    # Create a dictionary {category: count}\n",
    "    dictionary_from_list = ee.Dictionary.fromLists(string_list, value_list)\n",
    "\n",
    "    # Add the dictionary as properties to the feature\n",
    "    return feature.set(dictionary_from_list)"
   ]
  },
  {
   "cell_type": "code",
   "execution_count": 9,
   "id": "d2a69554-388b-499a-9220-494f7dfe1f0c",
   "metadata": {},
   "outputs": [
    {
     "data": {
      "text/html": [
       "\n",
       "            <style>\n",
       "                .geemap-dark {\n",
       "                    --jp-widgets-color: white;\n",
       "                    --jp-widgets-label-color: white;\n",
       "                    --jp-ui-font-color1: white;\n",
       "                    --jp-layout-color2: #454545;\n",
       "                    background-color: #383838;\n",
       "                }\n",
       "                    \n",
       "                .geemap-dark .jupyter-button {\n",
       "                    --jp-layout-color3: #383838;\n",
       "                }\n",
       "                \n",
       "                .geemap-colab {\n",
       "                    background-color: var(--colab-primary-surface-color, white);\n",
       "                }\n",
       "                    \n",
       "                .geemap-colab .jupyter-button {\n",
       "                    --jp-layout-color3: var(--colab-primary-surface-color, white);\n",
       "                }\n",
       "            </style>\n",
       "            "
      ],
      "text/plain": [
       "<IPython.core.display.HTML object>"
      ]
     },
     "metadata": {},
     "output_type": "display_data"
    }
   ],
   "source": [
    "def compute_cluster_statistics(c):\n",
    "    \"\"\"\n",
    "    Calculate the number of classified target class pixels in each cluster.\n",
    "    \n",
    "    Args:\n",
    "    -c: cluster ID\n",
    "\n",
    "    Returns:\n",
    "    -feature: component (classified target class and non-target class) in each cluster\n",
    "    \n",
    "    \"\"\"\n",
    "    c = ee.Number(c)\n",
    "\n",
    "    # Generate a mask for each cluster\n",
    "    mask_value = cluster_result.eq(c)\n",
    "\n",
    "    # Calculate the classification histogram for each cluster\n",
    "    cluster_histo = cla.updateMask(mask_value).reduceRegion(\n",
    "        reducer=ee.Reducer.frequencyHistogram(),\n",
    "        geometry=state.geometry(),\n",
    "        scale=10,\n",
    "        crs='EPSG:32615',\n",
    "        maxPixels=1e11\n",
    "    )\n",
    "\n",
    "    # Extract the \"classification\" field from the histogram\n",
    "    histogram_dict = ee.Dictionary(cluster_histo.get(\"classification\"))\n",
    "\n",
    "    # Get the counts for category 0 and category 1\n",
    "    num0 = ee.Number(histogram_dict.get('0', 0))\n",
    "    num1 = ee.Number(histogram_dict.get('1', 0))\n",
    "\n",
    "    # Create a Feature containing the cluster ID and counts\n",
    "    feature = ee.Feature(\n",
    "        ee.Geometry.Point([115.11564806768662, 38.63820782099307]), \n",
    "        {'clusterID': c, 'num0': num0, 'num1': num1}\n",
    "    )\n",
    "\n",
    "    return feature"
   ]
  },
  {
   "cell_type": "code",
   "execution_count": 10,
   "id": "da8bc6e3-c10a-4ff0-9a10-3443e6a899c6",
   "metadata": {},
   "outputs": [
    {
     "data": {
      "text/html": [
       "\n",
       "            <style>\n",
       "                .geemap-dark {\n",
       "                    --jp-widgets-color: white;\n",
       "                    --jp-widgets-label-color: white;\n",
       "                    --jp-ui-font-color1: white;\n",
       "                    --jp-layout-color2: #454545;\n",
       "                    background-color: #383838;\n",
       "                }\n",
       "                    \n",
       "                .geemap-dark .jupyter-button {\n",
       "                    --jp-layout-color3: #383838;\n",
       "                }\n",
       "                \n",
       "                .geemap-colab {\n",
       "                    background-color: var(--colab-primary-surface-color, white);\n",
       "                }\n",
       "                    \n",
       "                .geemap-colab .jupyter-button {\n",
       "                    --jp-layout-color3: var(--colab-primary-surface-color, white);\n",
       "                }\n",
       "            </style>\n",
       "            "
      ],
      "text/plain": [
       "<IPython.core.display.HTML object>"
      ]
     },
     "metadata": {},
     "output_type": "display_data"
    }
   ],
   "source": [
    "def compute_classified_statistics(feature):\n",
    "    \"\"\" \n",
    "    Calculate the pixel number of classified target class for each subregion \n",
    "\n",
    "    Args:\n",
    "    -feature: subregion feature\n",
    "\n",
    "    Returns:\n",
    "    -feature: subregion feature containing classified target and non-target pixel numbers\n",
    "    \"\"\"\n",
    "    classified_histo = cla.reduceRegion(\n",
    "        reducer=ee.Reducer.frequencyHistogram(),\n",
    "        geometry=feature.geometry(),\n",
    "        scale=10,\n",
    "        crs='EPSG:32615',\n",
    "        maxPixels=1e11\n",
    "    ).get('classification')\n",
    "    \n",
    "    # Extract values from the histogram\n",
    "    dict_ = ee.Dictionary(classified_histo)\n",
    "    num0 = dict_.get('0', 0)\n",
    "    num1 = dict_.get('1', 0)\n",
    "    \n",
    "    # Return the feature with added statistics\n",
    "    return feature.set('num0', num0, 'num1', num1)"
   ]
  },
  {
   "cell_type": "code",
   "execution_count": 11,
   "id": "967d6f04-c101-4371-b42f-1d0fcec8abcd",
   "metadata": {},
   "outputs": [
    {
     "data": {
      "text/html": [
       "\n",
       "            <style>\n",
       "                .geemap-dark {\n",
       "                    --jp-widgets-color: white;\n",
       "                    --jp-widgets-label-color: white;\n",
       "                    --jp-ui-font-color1: white;\n",
       "                    --jp-layout-color2: #454545;\n",
       "                    background-color: #383838;\n",
       "                }\n",
       "                    \n",
       "                .geemap-dark .jupyter-button {\n",
       "                    --jp-layout-color3: #383838;\n",
       "                }\n",
       "                \n",
       "                .geemap-colab {\n",
       "                    background-color: var(--colab-primary-surface-color, white);\n",
       "                }\n",
       "                    \n",
       "                .geemap-colab .jupyter-button {\n",
       "                    --jp-layout-color3: var(--colab-primary-surface-color, white);\n",
       "                }\n",
       "            </style>\n",
       "            "
      ],
      "text/plain": [
       "<IPython.core.display.HTML object>"
      ]
     },
     "metadata": {},
     "output_type": "display_data"
    }
   ],
   "source": [
    "def compute_cluster_mean(c):\n",
    "    \"\"\"\n",
    "    Calculate the mean spectral values for each cluster\n",
    "\n",
    "    Args: \n",
    "    -c: cluster ID\n",
    "\n",
    "    Returns:\n",
    "    -feature: features containing mean spectral values for each cluster\n",
    "    \"\"\"\n",
    "    c = ee.Number(c)\n",
    "\n",
    "    # Create a mask for each cluster\n",
    "    mask_value = cluster_result.eq(c)\n",
    "\n",
    "    # Calculate the mean value of each band for the current cluster\n",
    "    mean_values = dataset.addBands([normalized_lda]).updateMask(mask_value).reduceRegion(\n",
    "        reducer=ee.Reducer.mean(),\n",
    "        geometry=state.geometry(),\n",
    "        scale=10,\n",
    "        maxPixels=1e11\n",
    "    )\n",
    "\n",
    "    # Extract the computed mean values as a dictionary\n",
    "    mean_dict = ee.Dictionary(mean_values)\n",
    "\n",
    "    # Extract the mean for each band\n",
    "    band_names = ['B2', 'B3', 'B4', 'B5', 'B6', 'B7', 'B8', 'B8A', 'B11', 'B12', 'NDVI', 'lda']\n",
    "    band_means = {band: mean_dict.get(band, 0) for band in band_names}\n",
    "\n",
    "    # Create a Feature containing the clusterID and band means\n",
    "    feature = ee.Feature(\n",
    "        ee.Geometry.Point([115.11564806768662, 38.63820782099307]),\n",
    "        {'clusterID': c, **band_means}\n",
    "    )\n",
    "\n",
    "    return feature"
   ]
  },
  {
   "cell_type": "code",
   "execution_count": 12,
   "id": "cc2f588f-fed5-4728-bb0a-4560fc2055a3",
   "metadata": {},
   "outputs": [
    {
     "data": {
      "text/html": [
       "\n",
       "            <style>\n",
       "                .geemap-dark {\n",
       "                    --jp-widgets-color: white;\n",
       "                    --jp-widgets-label-color: white;\n",
       "                    --jp-ui-font-color1: white;\n",
       "                    --jp-layout-color2: #454545;\n",
       "                    background-color: #383838;\n",
       "                }\n",
       "                    \n",
       "                .geemap-dark .jupyter-button {\n",
       "                    --jp-layout-color3: #383838;\n",
       "                }\n",
       "                \n",
       "                .geemap-colab {\n",
       "                    background-color: var(--colab-primary-surface-color, white);\n",
       "                }\n",
       "                    \n",
       "                .geemap-colab .jupyter-button {\n",
       "                    --jp-layout-color3: var(--colab-primary-surface-color, white);\n",
       "                }\n",
       "            </style>\n",
       "            "
      ],
      "text/plain": [
       "<IPython.core.display.HTML object>"
      ]
     },
     "metadata": {},
     "output_type": "display_data"
    }
   ],
   "source": [
    "def compute_error_matrix(c):\n",
    "    \"\"\"\n",
    "    Calculate the error matrix for each cluster\n",
    "\n",
    "    Args: \n",
    "    -c: cluster ID\n",
    "\n",
    "    Returns:\n",
    "    -feature: feature contains error matrix for each cluster\n",
    "    \n",
    "    \"\"\"\n",
    "    c = ee.Number(c)\n",
    "\n",
    "    # Compute the error matrix for the current cluster\n",
    "    confusion_matrix = (\n",
    "        vali_sample.filterMetadata('cluster', 'equals', c)  # Filter sample for the current cluster\n",
    "        .errorMatrix('classification', 'type', [0, 1])  # Compute the confusion matrix (true/false positives/negatives)\n",
    "        .array()  # Convert to an array\n",
    "        .toList()  # Convert the array to a list\n",
    "        .flatten()  # Flatten the list\n",
    "    )\n",
    "\n",
    "    # Extract the four elements of the confusion matrix\n",
    "    a11 = ee.Number(confusion_matrix.get(0))  # True Positive\n",
    "    a12 = ee.Number(confusion_matrix.get(1))  # False Positive\n",
    "    a21 = ee.Number(confusion_matrix.get(2))  # False Negative\n",
    "    a22 = ee.Number(confusion_matrix.get(3))  # True Negative\n",
    "\n",
    "    # Create a Feature containing the clusterID and confusion matrix values\n",
    "    feature = ee.Feature(\n",
    "        ee.Geometry.Point([115.11564806768662, 38.63820782099307]),\n",
    "        {\n",
    "            'clusterID': c,\n",
    "            'a11': a11,\n",
    "            'a12': a12,\n",
    "            'a21': a21,\n",
    "            'a22': a22,\n",
    "        }\n",
    "    )\n",
    "\n",
    "    return feature"
   ]
  },
  {
   "cell_type": "markdown",
   "id": "7f8fea51-697d-4f31-bca7-96c587ee21ac",
   "metadata": {},
   "source": [
    "# 4. Import inputs of BAESCM"
   ]
  },
  {
   "cell_type": "code",
   "execution_count": 13,
   "id": "186327d8-4bc7-4087-9ddc-31a1f3c2c048",
   "metadata": {},
   "outputs": [
    {
     "data": {
      "text/html": [
       "\n",
       "            <style>\n",
       "                .geemap-dark {\n",
       "                    --jp-widgets-color: white;\n",
       "                    --jp-widgets-label-color: white;\n",
       "                    --jp-ui-font-color1: white;\n",
       "                    --jp-layout-color2: #454545;\n",
       "                    background-color: #383838;\n",
       "                }\n",
       "                    \n",
       "                .geemap-dark .jupyter-button {\n",
       "                    --jp-layout-color3: #383838;\n",
       "                }\n",
       "                \n",
       "                .geemap-colab {\n",
       "                    background-color: var(--colab-primary-surface-color, white);\n",
       "                }\n",
       "                    \n",
       "                .geemap-colab .jupyter-button {\n",
       "                    --jp-layout-color3: var(--colab-primary-surface-color, white);\n",
       "                }\n",
       "            </style>\n",
       "            "
      ],
      "text/plain": [
       "<IPython.core.display.HTML object>"
      ]
     },
     "metadata": {},
     "output_type": "display_data"
    }
   ],
   "source": [
    "\"\"\"\n",
    "The inputs of BAESCM must contain:\n",
    "\n",
    "1. The boundary of global region\n",
    "    description: FeatureCollection\n",
    "    \n",
    "2. The boundary of subregions\n",
    "    description: FeatureCollection\n",
    "    \n",
    "3. The samples for area estimation\n",
    "    description: FeatureCollection. The sample file should contains two fields: \"classification\" and \"type\". \n",
    "                 \"classification\" field refers to the map class of the sample. It's also the stratification of sampling. 1 means target class and 0 means non-target class\n",
    "                 \"type\" field refers to the true class of the sample. 1 means target class and 0 means non-target class.\n",
    "4. The Sentinel-2 images of the global region\n",
    "    description: ImageCollection. The bands should contain 'B2','B3','B4','B5','B6','B7','B8','B8A','B11' and 'B12'.\n",
    "    \n",
    "5. The classification map\n",
    "    description: Image. 1 means target class and 0 means non-target class.\n",
    "\"\"\"\n",
    "\n",
    "# The boundary of global region. We take Nebraska state as an example here.\n",
    "state = ee.FeatureCollection(\"users/bz327603/nebraska_state\")\n",
    "\n",
    "# The boundary of subregions. We take counties of Nebraska state as an example here.\n",
    "county = ee.FeatureCollection(\"users/bz327603/nebraska_county\")\n",
    "\n",
    "# The samples for area estimation. We take 500 samples (250 samples of mapped target class and 250 samples of mapped non-taget class) in total as an example.\n",
    "sample = ee.FeatureCollection(\"users/bz327603/nebraska_sample500\")\n",
    "\n",
    "# The classification map of the global region for area estimation. We take a RF map as an example.\n",
    "cla = ee.Image(\"users/bz327603/nebraska_classified\")\n",
    "\n",
    "# The Sentinel-2 images \n",
    "dataset = (\n",
    "    ee.ImageCollection('COPERNICUS/S2_SR_HARMONIZED')\n",
    "    .filterDate('2019-01-01', '2019-12-31')\n",
    "    .filter(ee.Filter.calendarRange(200,240))\n",
    "    .filter(ee.Filter.lt('CLOUDY_PIXEL_PERCENTAGE', 10))\n",
    "    .map(mask_s2_clouds)\n",
    "    .filterBounds(state.geometry())\n",
    "    .select(['B2','B3','B4','B5','B6','B7','B8','B8A','B11','B12'])\n",
    "    .mean()\n",
    "    .unmask(0)\n",
    "    .clip(state)\n",
    ")"
   ]
  },
  {
   "cell_type": "code",
   "execution_count": 14,
   "id": "1ae88180-4031-4980-98b6-9b19e6c9eb7d",
   "metadata": {},
   "outputs": [
    {
     "data": {
      "text/html": [
       "\n",
       "            <style>\n",
       "                .geemap-dark {\n",
       "                    --jp-widgets-color: white;\n",
       "                    --jp-widgets-label-color: white;\n",
       "                    --jp-ui-font-color1: white;\n",
       "                    --jp-layout-color2: #454545;\n",
       "                    background-color: #383838;\n",
       "                }\n",
       "                    \n",
       "                .geemap-dark .jupyter-button {\n",
       "                    --jp-layout-color3: #383838;\n",
       "                }\n",
       "                \n",
       "                .geemap-colab {\n",
       "                    background-color: var(--colab-primary-surface-color, white);\n",
       "                }\n",
       "                    \n",
       "                .geemap-colab .jupyter-button {\n",
       "                    --jp-layout-color3: var(--colab-primary-surface-color, white);\n",
       "                }\n",
       "            </style>\n",
       "            "
      ],
      "text/plain": [
       "<IPython.core.display.HTML object>"
      ]
     },
     "metadata": {},
     "output_type": "display_data"
    }
   ],
   "source": [
    "\"\"\"\n",
    "Due to computational limitations of the GEE platform, some calculations cannot be completed online.\n",
    "The subsequent processing includes exporting the computation results to your legacy assets, you need to specify your legacy assets directory.\n",
    "For example, 'users/bz327603'\n",
    "\"\"\"\n",
    "asset_directory = 'users/bz327603'"
   ]
  },
  {
   "cell_type": "markdown",
   "id": "6646c9f3-a29a-42f4-9815-b513d47a1fe2",
   "metadata": {},
   "source": [
    "# 5. Set parameters of BAESCM"
   ]
  },
  {
   "cell_type": "code",
   "execution_count": 15,
   "id": "d334e1b4-87bb-4a3f-a21e-2e844d54a2f4",
   "metadata": {},
   "outputs": [
    {
     "data": {
      "text/html": [
       "\n",
       "            <style>\n",
       "                .geemap-dark {\n",
       "                    --jp-widgets-color: white;\n",
       "                    --jp-widgets-label-color: white;\n",
       "                    --jp-ui-font-color1: white;\n",
       "                    --jp-layout-color2: #454545;\n",
       "                    background-color: #383838;\n",
       "                }\n",
       "                    \n",
       "                .geemap-dark .jupyter-button {\n",
       "                    --jp-layout-color3: #383838;\n",
       "                }\n",
       "                \n",
       "                .geemap-colab {\n",
       "                    background-color: var(--colab-primary-surface-color, white);\n",
       "                }\n",
       "                    \n",
       "                .geemap-colab .jupyter-button {\n",
       "                    --jp-layout-color3: var(--colab-primary-surface-color, white);\n",
       "                }\n",
       "            </style>\n",
       "            "
      ],
      "text/plain": [
       "<IPython.core.display.HTML object>"
      ]
     },
     "metadata": {},
     "output_type": "display_data"
    }
   ],
   "source": [
    "\"\"\"\n",
    "The parameters of BAESCM contain:\n",
    "1. The cluster number of K-Means.\n",
    "2. The z value. The z quartile corresponding to the required confidence level of confidence interval for area estimations. \n",
    "\"\"\"\n",
    "\n",
    "# cluster number for K-Means clustering\n",
    "cluster_num = 6\n",
    "\n",
    "# z value for prior confidence of area estimations. We assumed that there is a 99% probability that the estimated values for all subregions are correct, so the corresponding z quantile equals 2.58\n",
    "prior = 2.58\n",
    "\n",
    "# z value for your required confidence of confidence interval. For example, we want to derive 95% confidence intervals of the area estimations, so the corresponding z quantile equals 1.96\n",
    "z = 1.96"
   ]
  },
  {
   "cell_type": "markdown",
   "id": "9377e023-8f5a-44b5-ac26-e818771a6c9a",
   "metadata": {},
   "source": [
    "# 6. Data Process"
   ]
  },
  {
   "cell_type": "markdown",
   "id": "c9f04d1f-aaef-4748-8239-e651504e2745",
   "metadata": {},
   "source": [
    "## 6.1 FLDA transfer"
   ]
  },
  {
   "cell_type": "code",
   "execution_count": 16,
   "id": "844ec7c6-b9bc-4cdb-9d48-ef5e359f98b2",
   "metadata": {},
   "outputs": [
    {
     "data": {
      "text/html": [
       "\n",
       "            <style>\n",
       "                .geemap-dark {\n",
       "                    --jp-widgets-color: white;\n",
       "                    --jp-widgets-label-color: white;\n",
       "                    --jp-ui-font-color1: white;\n",
       "                    --jp-layout-color2: #454545;\n",
       "                    background-color: #383838;\n",
       "                }\n",
       "                    \n",
       "                .geemap-dark .jupyter-button {\n",
       "                    --jp-layout-color3: #383838;\n",
       "                }\n",
       "                \n",
       "                .geemap-colab {\n",
       "                    background-color: var(--colab-primary-surface-color, white);\n",
       "                }\n",
       "                    \n",
       "                .geemap-colab .jupyter-button {\n",
       "                    --jp-layout-color3: var(--colab-primary-surface-color, white);\n",
       "                }\n",
       "            </style>\n",
       "            "
      ],
      "text/plain": [
       "<IPython.core.display.HTML object>"
      ]
     },
     "metadata": {},
     "output_type": "display_data"
    }
   ],
   "source": [
    "# Calculate NDVI bands and add to dataset\n",
    "\n",
    "# calculate NDVI\n",
    "redBand = dataset.select('B4') \n",
    "nirBand = dataset.select('B8')\n",
    "ndvi = nirBand.subtract(redBand).divide(nirBand.add(redBand)).rename('NDVI');\n",
    "\n",
    "# add NDVI to dataset\n",
    "dataset = dataset.addBands(ndvi);"
   ]
  },
  {
   "cell_type": "code",
   "execution_count": 22,
   "id": "3995bfca-2a87-4d5c-a32b-d02e5d0b783b",
   "metadata": {},
   "outputs": [
    {
     "data": {
      "text/html": [
       "\n",
       "            <style>\n",
       "                .geemap-dark {\n",
       "                    --jp-widgets-color: white;\n",
       "                    --jp-widgets-label-color: white;\n",
       "                    --jp-ui-font-color1: white;\n",
       "                    --jp-layout-color2: #454545;\n",
       "                    background-color: #383838;\n",
       "                }\n",
       "                    \n",
       "                .geemap-dark .jupyter-button {\n",
       "                    --jp-layout-color3: #383838;\n",
       "                }\n",
       "                \n",
       "                .geemap-colab {\n",
       "                    background-color: var(--colab-primary-surface-color, white);\n",
       "                }\n",
       "                    \n",
       "                .geemap-colab .jupyter-button {\n",
       "                    --jp-layout-color3: var(--colab-primary-surface-color, white);\n",
       "                }\n",
       "            </style>\n",
       "            "
      ],
      "text/plain": [
       "<IPython.core.display.HTML object>"
      ]
     },
     "metadata": {},
     "output_type": "display_data"
    },
    {
     "name": "stdout",
     "output_type": "stream",
     "text": [
      "The task is running, please check in the Task Manager and wait until it is completed\n"
     ]
    }
   ],
   "source": [
    "# Export samples for FLDA component \n",
    "\n",
    "# stratification sampling\n",
    "flda_sample = dataset.addBands(cla).stratifiedSample(\n",
    "    numPoints=1000,          \n",
    "    classBand='classification',  # stratification\n",
    "    seed=123,                \n",
    "    region=state,           \n",
    "    scale=10,               \n",
    "    geometries=True         \n",
    ")\n",
    "\n",
    "# start a task to export\n",
    "task = ee.batch.Export.table.toAsset(\n",
    "    collection=flda_sample,\n",
    "    description='nebraska_flda_sample',\n",
    "    assetId=asset_directory+'/nebraska_flda_sample'\n",
    ")\n",
    "task.start()\n",
    "\n",
    "print(\"The task is running, please check in the Task Manager and wait until it is completed\")"
   ]
  },
  {
   "cell_type": "code",
   "execution_count": 17,
   "id": "acfa43be-35d7-4c46-9f1e-c554915a0cd5",
   "metadata": {},
   "outputs": [
    {
     "data": {
      "text/html": [
       "\n",
       "            <style>\n",
       "                .geemap-dark {\n",
       "                    --jp-widgets-color: white;\n",
       "                    --jp-widgets-label-color: white;\n",
       "                    --jp-ui-font-color1: white;\n",
       "                    --jp-layout-color2: #454545;\n",
       "                    background-color: #383838;\n",
       "                }\n",
       "                    \n",
       "                .geemap-dark .jupyter-button {\n",
       "                    --jp-layout-color3: #383838;\n",
       "                }\n",
       "                \n",
       "                .geemap-colab {\n",
       "                    background-color: var(--colab-primary-surface-color, white);\n",
       "                }\n",
       "                    \n",
       "                .geemap-colab .jupyter-button {\n",
       "                    --jp-layout-color3: var(--colab-primary-surface-color, white);\n",
       "                }\n",
       "            </style>\n",
       "            "
      ],
      "text/plain": [
       "<IPython.core.display.HTML object>"
      ]
     },
     "metadata": {},
     "output_type": "display_data"
    }
   ],
   "source": [
    "# import FLDA samples\n",
    "flda_sample = ee.FeatureCollection(asset_directory+\"/nebraska_flda_sample\")"
   ]
  },
  {
   "cell_type": "code",
   "execution_count": 19,
   "id": "53449b4f-138d-4587-a8bd-09f4f8440f19",
   "metadata": {},
   "outputs": [
    {
     "data": {
      "text/html": [
       "\n",
       "            <style>\n",
       "                .geemap-dark {\n",
       "                    --jp-widgets-color: white;\n",
       "                    --jp-widgets-label-color: white;\n",
       "                    --jp-ui-font-color1: white;\n",
       "                    --jp-layout-color2: #454545;\n",
       "                    background-color: #383838;\n",
       "                }\n",
       "                    \n",
       "                .geemap-dark .jupyter-button {\n",
       "                    --jp-layout-color3: #383838;\n",
       "                }\n",
       "                \n",
       "                .geemap-colab {\n",
       "                    background-color: var(--colab-primary-surface-color, white);\n",
       "                }\n",
       "                    \n",
       "                .geemap-colab .jupyter-button {\n",
       "                    --jp-layout-color3: var(--colab-primary-surface-color, white);\n",
       "                }\n",
       "            </style>\n",
       "            "
      ],
      "text/plain": [
       "<IPython.core.display.HTML object>"
      ]
     },
     "metadata": {},
     "output_type": "display_data"
    },
    {
     "name": "stdout",
     "output_type": "stream",
     "text": [
      "The task is running, please check in the Task Manager and wait until it is completed, then update your min and max values of the following cell!\n"
     ]
    }
   ],
   "source": [
    "# prepare inputs of FLDA algorithm \n",
    "df = geemap.ee_to_df(flda_sample)\n",
    "X = df[['B2','B3','B4','B5','B6','B7','B8','B8A','B11','B12','NDVI']].to_numpy()\n",
    "Y = df[['classification']].to_numpy().ravel()\n",
    "\n",
    "# fit a FLDA model\n",
    "clf = LinearDiscriminantAnalysis()\n",
    "clf.fit(X, Y)\n",
    "\n",
    "# derive transfer factors\n",
    "bar = clf.xbar_.tolist()\n",
    "scale = clf.scalings_.flatten().tolist()\n",
    "\n",
    "# FLDA transfer and derive FLDA component\n",
    "bandNames = ['B2', 'B3', 'B4', 'B5', 'B6', 'B7', 'B8', 'B8A', 'B11', 'B12', 'NDVI']\n",
    "lda = dataset.select(bandNames) \\\n",
    "    .subtract(bar) \\\n",
    "    .multiply(scale) \\\n",
    "    .reduce(ee.Reducer.sum())\n",
    "\n",
    "# calculate 2% and 98% percentiles as minimum and maximum values of FLDA component\n",
    "percentileValue = lda.clip(state).reduceRegion(\n",
    "    reducer=ee.Reducer.percentile([2, 98]),   \n",
    "    geometry=state.geometry(),               \n",
    "    scale=10,                                \n",
    "    crs='EPSG:32615',                        \n",
    "    maxPixels=1e11                           \n",
    ")\n",
    "\n",
    "blank = ee.Feature(ee.Geometry.Point([115.11564806768662, 38.63820782099307])).set({\n",
    "    'min': percentileValue.getNumber('sum_p2'),\n",
    "    'max': percentileValue.getNumber('sum_p98')\n",
    "})\n",
    "\n",
    "# export to Google Drive\n",
    "task = ee.batch.Export.table.toDrive(\n",
    "    collection=ee.FeatureCollection([blank]),\n",
    "    description='minmax',\n",
    "    fileFormat='CSV'\n",
    ")\n",
    "task.start()\n",
    "\n",
    "print(\"The task is running, please check in the Task Manager and wait until it is completed, then update your min and max values of the following cell!\")"
   ]
  },
  {
   "cell_type": "code",
   "execution_count": 20,
   "id": "0ba77968-e05b-44cb-ad85-2488f0bd0a19",
   "metadata": {},
   "outputs": [
    {
     "data": {
      "text/html": [
       "\n",
       "            <style>\n",
       "                .geemap-dark {\n",
       "                    --jp-widgets-color: white;\n",
       "                    --jp-widgets-label-color: white;\n",
       "                    --jp-ui-font-color1: white;\n",
       "                    --jp-layout-color2: #454545;\n",
       "                    background-color: #383838;\n",
       "                }\n",
       "                    \n",
       "                .geemap-dark .jupyter-button {\n",
       "                    --jp-layout-color3: #383838;\n",
       "                }\n",
       "                \n",
       "                .geemap-colab {\n",
       "                    background-color: var(--colab-primary-surface-color, white);\n",
       "                }\n",
       "                    \n",
       "                .geemap-colab .jupyter-button {\n",
       "                    --jp-layout-color3: var(--colab-primary-surface-color, white);\n",
       "                }\n",
       "            </style>\n",
       "            "
      ],
      "text/plain": [
       "<IPython.core.display.HTML object>"
      ]
     },
     "metadata": {},
     "output_type": "display_data"
    }
   ],
   "source": [
    "min_value = ee.Number(-2.726414338)   # replace your 2% percentile here\n",
    "max_value = ee.Number(2.691629333) # replace your 98% percentile here\n",
    "\n",
    "# normalize FLDA with min and max values\n",
    "normalized_lda = lda.subtract(min_value).divide(max_value.subtract(min_value)).rename('lda').toFloat()"
   ]
  },
  {
   "cell_type": "markdown",
   "id": "e90e7180-3b5f-497c-a545-8ca8c9df088b",
   "metadata": {},
   "source": [
    "## 6.2 K-Means clustering"
   ]
  },
  {
   "cell_type": "code",
   "execution_count": 26,
   "id": "48d15915-01a6-4c47-bf7f-2210185d463d",
   "metadata": {},
   "outputs": [
    {
     "data": {
      "text/html": [
       "\n",
       "            <style>\n",
       "                .geemap-dark {\n",
       "                    --jp-widgets-color: white;\n",
       "                    --jp-widgets-label-color: white;\n",
       "                    --jp-ui-font-color1: white;\n",
       "                    --jp-layout-color2: #454545;\n",
       "                    background-color: #383838;\n",
       "                }\n",
       "                    \n",
       "                .geemap-dark .jupyter-button {\n",
       "                    --jp-layout-color3: #383838;\n",
       "                }\n",
       "                \n",
       "                .geemap-colab {\n",
       "                    background-color: var(--colab-primary-surface-color, white);\n",
       "                }\n",
       "                    \n",
       "                .geemap-colab .jupyter-button {\n",
       "                    --jp-layout-color3: var(--colab-primary-surface-color, white);\n",
       "                }\n",
       "            </style>\n",
       "            "
      ],
      "text/plain": [
       "<IPython.core.display.HTML object>"
      ]
     },
     "metadata": {},
     "output_type": "display_data"
    },
    {
     "name": "stdout",
     "output_type": "stream",
     "text": [
      "The task is running, please check in the Task Manager and wait until it is completed\n"
     ]
    }
   ],
   "source": [
    "# training samples for K-Means\n",
    "training = (dataset.addBands([normalized_lda])\n",
    "                .sample(region=state,  \n",
    "                        scale=10,      \n",
    "                        tileScale=16,  \n",
    "                        numPixels=20000))  \n",
    "\n",
    "# train a K-Means model\n",
    "clusterer = (ee.Clusterer.wekaKMeans(nClusters=cluster_num)\n",
    "                 .train(training))\n",
    "\n",
    "# derive K-Means results\n",
    "cluster_result = dataset.addBands([normalized_lda]).cluster(clusterer)\n",
    "\n",
    "# export K-Means results to asset\n",
    "task = ee.batch.Export.image.toAsset(\n",
    "    image = cluster_result,\n",
    "    description = 'nebraska_cluster',\n",
    "    assetId = asset_directory+'/nebraska_cluster', \n",
    "    region = state.geometry(),\n",
    "    scale = 10,\n",
    "    maxPixels = 1e11\n",
    ")\n",
    "\n",
    "task.start()\n",
    "\n",
    "print(\"The task is running, please check in the Task Manager and wait until it is completed\")"
   ]
  },
  {
   "cell_type": "code",
   "execution_count": 21,
   "id": "8428156e-07dd-4f97-88c7-1ad23e95d674",
   "metadata": {},
   "outputs": [
    {
     "data": {
      "text/html": [
       "\n",
       "            <style>\n",
       "                .geemap-dark {\n",
       "                    --jp-widgets-color: white;\n",
       "                    --jp-widgets-label-color: white;\n",
       "                    --jp-ui-font-color1: white;\n",
       "                    --jp-layout-color2: #454545;\n",
       "                    background-color: #383838;\n",
       "                }\n",
       "                    \n",
       "                .geemap-dark .jupyter-button {\n",
       "                    --jp-layout-color3: #383838;\n",
       "                }\n",
       "                \n",
       "                .geemap-colab {\n",
       "                    background-color: var(--colab-primary-surface-color, white);\n",
       "                }\n",
       "                    \n",
       "                .geemap-colab .jupyter-button {\n",
       "                    --jp-layout-color3: var(--colab-primary-surface-color, white);\n",
       "                }\n",
       "            </style>\n",
       "            "
      ],
      "text/plain": [
       "<IPython.core.display.HTML object>"
      ]
     },
     "metadata": {},
     "output_type": "display_data"
    }
   ],
   "source": [
    "#import cluster result\n",
    "cluster_result = ee.Image(asset_directory+\"/nebraska_cluster\")"
   ]
  },
  {
   "cell_type": "markdown",
   "id": "f1e2203b-5465-4f7a-8723-9bbe57326b45",
   "metadata": {},
   "source": [
    "## 6.3 Area Estimation"
   ]
  },
  {
   "cell_type": "code",
   "execution_count": 22,
   "id": "477b07ae-8316-4df4-847b-5737c49025ce",
   "metadata": {},
   "outputs": [
    {
     "data": {
      "text/html": [
       "\n",
       "            <style>\n",
       "                .geemap-dark {\n",
       "                    --jp-widgets-color: white;\n",
       "                    --jp-widgets-label-color: white;\n",
       "                    --jp-ui-font-color1: white;\n",
       "                    --jp-layout-color2: #454545;\n",
       "                    background-color: #383838;\n",
       "                }\n",
       "                    \n",
       "                .geemap-dark .jupyter-button {\n",
       "                    --jp-layout-color3: #383838;\n",
       "                }\n",
       "                \n",
       "                .geemap-colab {\n",
       "                    background-color: var(--colab-primary-surface-color, white);\n",
       "                }\n",
       "                    \n",
       "                .geemap-colab .jupyter-button {\n",
       "                    --jp-layout-color3: var(--colab-primary-surface-color, white);\n",
       "                }\n",
       "            </style>\n",
       "            "
      ],
      "text/plain": [
       "<IPython.core.display.HTML object>"
      ]
     },
     "metadata": {},
     "output_type": "display_data"
    }
   ],
   "source": [
    "# Calculate the cluster percentage for all counties\n",
    "cluster_percent = county.map(compute_cluster_percentage)\n",
    "\n",
    "df_cluster_percent = geemap.ee_to_df(cluster_percent)"
   ]
  },
  {
   "cell_type": "code",
   "execution_count": 23,
   "id": "e1940605-3953-4d74-bdfc-4d94639583bf",
   "metadata": {},
   "outputs": [
    {
     "data": {
      "text/html": [
       "\n",
       "            <style>\n",
       "                .geemap-dark {\n",
       "                    --jp-widgets-color: white;\n",
       "                    --jp-widgets-label-color: white;\n",
       "                    --jp-ui-font-color1: white;\n",
       "                    --jp-layout-color2: #454545;\n",
       "                    background-color: #383838;\n",
       "                }\n",
       "                    \n",
       "                .geemap-dark .jupyter-button {\n",
       "                    --jp-layout-color3: #383838;\n",
       "                }\n",
       "                \n",
       "                .geemap-colab {\n",
       "                    background-color: var(--colab-primary-surface-color, white);\n",
       "                }\n",
       "                    \n",
       "                .geemap-colab .jupyter-button {\n",
       "                    --jp-layout-color3: var(--colab-primary-surface-color, white);\n",
       "                }\n",
       "            </style>\n",
       "            "
      ],
      "text/plain": [
       "<IPython.core.display.HTML object>"
      ]
     },
     "metadata": {},
     "output_type": "display_data"
    }
   ],
   "source": [
    "# create a list from 0 to cluster_num-1 \n",
    "cluster_list = ee.List.sequence(0, cluster_num - 1, 1)"
   ]
  },
  {
   "cell_type": "code",
   "execution_count": 24,
   "id": "4736e0c0-fe35-44b6-a9a9-a52b24994858",
   "metadata": {},
   "outputs": [
    {
     "data": {
      "text/html": [
       "\n",
       "            <style>\n",
       "                .geemap-dark {\n",
       "                    --jp-widgets-color: white;\n",
       "                    --jp-widgets-label-color: white;\n",
       "                    --jp-ui-font-color1: white;\n",
       "                    --jp-layout-color2: #454545;\n",
       "                    background-color: #383838;\n",
       "                }\n",
       "                    \n",
       "                .geemap-dark .jupyter-button {\n",
       "                    --jp-layout-color3: #383838;\n",
       "                }\n",
       "                \n",
       "                .geemap-colab {\n",
       "                    background-color: var(--colab-primary-surface-color, white);\n",
       "                }\n",
       "                    \n",
       "                .geemap-colab .jupyter-button {\n",
       "                    --jp-layout-color3: var(--colab-primary-surface-color, white);\n",
       "                }\n",
       "            </style>\n",
       "            "
      ],
      "text/plain": [
       "<IPython.core.display.HTML object>"
      ]
     },
     "metadata": {},
     "output_type": "display_data"
    }
   ],
   "source": [
    "# Calculate statistics for all clusters\n",
    "statistic = cluster_list.map(compute_cluster_statistics)\n",
    "\n",
    "# Convert the list of statistics to a FeatureCollection\n",
    "cluster_gram = ee.FeatureCollection(statistic.flatten())\n",
    "\n",
    "df_cluster_gram = geemap.ee_to_df(cluster_gram)"
   ]
  },
  {
   "cell_type": "code",
   "execution_count": 25,
   "id": "61b877b1-173b-4de8-9ea2-9e8d6a6e5362",
   "metadata": {},
   "outputs": [
    {
     "data": {
      "text/html": [
       "\n",
       "            <style>\n",
       "                .geemap-dark {\n",
       "                    --jp-widgets-color: white;\n",
       "                    --jp-widgets-label-color: white;\n",
       "                    --jp-ui-font-color1: white;\n",
       "                    --jp-layout-color2: #454545;\n",
       "                    background-color: #383838;\n",
       "                }\n",
       "                    \n",
       "                .geemap-dark .jupyter-button {\n",
       "                    --jp-layout-color3: #383838;\n",
       "                }\n",
       "                \n",
       "                .geemap-colab {\n",
       "                    background-color: var(--colab-primary-surface-color, white);\n",
       "                }\n",
       "                    \n",
       "                .geemap-colab .jupyter-button {\n",
       "                    --jp-layout-color3: var(--colab-primary-surface-color, white);\n",
       "                }\n",
       "            </style>\n",
       "            "
      ],
      "text/plain": [
       "<IPython.core.display.HTML object>"
      ]
     },
     "metadata": {},
     "output_type": "display_data"
    }
   ],
   "source": [
    "# Apply the statistical calculation to each county\n",
    "classified_statistic = county.map(compute_classified_statistics)\n",
    "\n",
    "# Convert the FeatureCollection to a DataFrame\n",
    "df_cla_percent = geemap.ee_to_df(classified_statistic)\n",
    "\n",
    "# Calculate the classification percentage (num1 / (num0 + num1))\n",
    "df_cla_percent['classify_percent'] = df_cla_percent['num1'] / (df_cla_percent['num0'] + df_cla_percent['num1'])"
   ]
  },
  {
   "cell_type": "code",
   "execution_count": 32,
   "id": "e9fa793a-48af-4827-85bb-6e06bba3db2e",
   "metadata": {},
   "outputs": [
    {
     "data": {
      "text/html": [
       "\n",
       "            <style>\n",
       "                .geemap-dark {\n",
       "                    --jp-widgets-color: white;\n",
       "                    --jp-widgets-label-color: white;\n",
       "                    --jp-ui-font-color1: white;\n",
       "                    --jp-layout-color2: #454545;\n",
       "                    background-color: #383838;\n",
       "                }\n",
       "                    \n",
       "                .geemap-dark .jupyter-button {\n",
       "                    --jp-layout-color3: #383838;\n",
       "                }\n",
       "                \n",
       "                .geemap-colab {\n",
       "                    background-color: var(--colab-primary-surface-color, white);\n",
       "                }\n",
       "                    \n",
       "                .geemap-colab .jupyter-button {\n",
       "                    --jp-layout-color3: var(--colab-primary-surface-color, white);\n",
       "                }\n",
       "            </style>\n",
       "            "
      ],
      "text/plain": [
       "<IPython.core.display.HTML object>"
      ]
     },
     "metadata": {},
     "output_type": "display_data"
    },
    {
     "name": "stdout",
     "output_type": "stream",
     "text": [
      "Export task started. Check the GEE Task Manager for progress and wait until it is completed. Then download it from Google Drive to your computer!\n"
     ]
    }
   ],
   "source": [
    "# Generate a sequence from 0 to cluster_num-1\n",
    "cluster_list = ee.List.sequence(0, cluster_num - 1, 1)\n",
    "\n",
    "# Compute statistics (mean) for all clusters\n",
    "mean_by_cluster = cluster_list.map(compute_cluster_mean)\n",
    "\n",
    "# Convert the result to a FeatureCollection\n",
    "mean_gram = ee.FeatureCollection(mean_by_cluster.flatten())\n",
    "\n",
    "# Export to Google Drive\n",
    "export_task = ee.batch.Export.table.toDrive(\n",
    "    collection=mean_gram,\n",
    "    description=\"cluster_mean\",\n",
    "    fileFormat=\"CSV\"\n",
    ")\n",
    "\n",
    "# Start the export task\n",
    "export_task.start()\n",
    "\n",
    "print(\"Export task started. Check the GEE Task Manager for progress and wait until it is completed. Then download it from Google Drive to your computer!\")"
   ]
  },
  {
   "cell_type": "code",
   "execution_count": 26,
   "id": "cc9da7e6-b19c-4c99-9fe5-514467f9ef25",
   "metadata": {},
   "outputs": [
    {
     "data": {
      "text/html": [
       "\n",
       "            <style>\n",
       "                .geemap-dark {\n",
       "                    --jp-widgets-color: white;\n",
       "                    --jp-widgets-label-color: white;\n",
       "                    --jp-ui-font-color1: white;\n",
       "                    --jp-layout-color2: #454545;\n",
       "                    background-color: #383838;\n",
       "                }\n",
       "                    \n",
       "                .geemap-dark .jupyter-button {\n",
       "                    --jp-layout-color3: #383838;\n",
       "                }\n",
       "                \n",
       "                .geemap-colab {\n",
       "                    background-color: var(--colab-primary-surface-color, white);\n",
       "                }\n",
       "                    \n",
       "                .geemap-colab .jupyter-button {\n",
       "                    --jp-layout-color3: var(--colab-primary-surface-color, white);\n",
       "                }\n",
       "            </style>\n",
       "            "
      ],
      "text/plain": [
       "<IPython.core.display.HTML object>"
      ]
     },
     "metadata": {},
     "output_type": "display_data"
    }
   ],
   "source": [
    "# import the cluster mean file, update the following directory with yours\n",
    "file_cluster_mean = pd.read_csv(r\"C:\\Users\\bo'zhang\\Downloads\\cluster_mean.csv\")"
   ]
  },
  {
   "cell_type": "code",
   "execution_count": 27,
   "id": "37695b25-7ab7-459e-9400-b286e38b01ff",
   "metadata": {},
   "outputs": [
    {
     "data": {
      "text/html": [
       "\n",
       "            <style>\n",
       "                .geemap-dark {\n",
       "                    --jp-widgets-color: white;\n",
       "                    --jp-widgets-label-color: white;\n",
       "                    --jp-ui-font-color1: white;\n",
       "                    --jp-layout-color2: #454545;\n",
       "                    background-color: #383838;\n",
       "                }\n",
       "                    \n",
       "                .geemap-dark .jupyter-button {\n",
       "                    --jp-layout-color3: #383838;\n",
       "                }\n",
       "                \n",
       "                .geemap-colab {\n",
       "                    background-color: var(--colab-primary-surface-color, white);\n",
       "                }\n",
       "                    \n",
       "                .geemap-colab .jupyter-button {\n",
       "                    --jp-layout-color3: var(--colab-primary-surface-color, white);\n",
       "                }\n",
       "            </style>\n",
       "            "
      ],
      "text/plain": [
       "<IPython.core.display.HTML object>"
      ]
     },
     "metadata": {},
     "output_type": "display_data"
    }
   ],
   "source": [
    "# samples for calculating error matrix of each cluster\n",
    "vali_sample = cluster_result.sampleRegions(\n",
    "    collection=sample,\n",
    "    properties=sample.first().propertyNames(),  # Retain original properties\n",
    "    scale=10,  # Resolution of the image\n",
    "    tileScale=16\n",
    ")\n",
    "\n",
    "\n",
    "# Calculate the error matrix for all clusters\n",
    "cluster_error_matrix = cluster_list.map(compute_error_matrix)\n",
    "\n",
    "# Convert the list to a FeatureCollection\n",
    "out_collection = ee.FeatureCollection(cluster_error_matrix.flatten())\n",
    "\n",
    "# Convert FeatureCollection to a pandas DataFrame for analysis\n",
    "df_cluster_error_matrix = geemap.ee_to_df(out_collection)"
   ]
  },
  {
   "cell_type": "code",
   "execution_count": 28,
   "id": "3bc2aa5b-6bb3-4489-a95b-b141576ca8a8",
   "metadata": {},
   "outputs": [
    {
     "data": {
      "text/html": [
       "\n",
       "            <style>\n",
       "                .geemap-dark {\n",
       "                    --jp-widgets-color: white;\n",
       "                    --jp-widgets-label-color: white;\n",
       "                    --jp-ui-font-color1: white;\n",
       "                    --jp-layout-color2: #454545;\n",
       "                    background-color: #383838;\n",
       "                }\n",
       "                    \n",
       "                .geemap-dark .jupyter-button {\n",
       "                    --jp-layout-color3: #383838;\n",
       "                }\n",
       "                \n",
       "                .geemap-colab {\n",
       "                    background-color: var(--colab-primary-surface-color, white);\n",
       "                }\n",
       "                    \n",
       "                .geemap-colab .jupyter-button {\n",
       "                    --jp-layout-color3: var(--colab-primary-surface-color, white);\n",
       "                }\n",
       "            </style>\n",
       "            "
      ],
      "text/plain": [
       "<IPython.core.display.HTML object>"
      ]
     },
     "metadata": {},
     "output_type": "display_data"
    },
    {
     "name": "stdout",
     "output_type": "stream",
     "text": [
      "    obj_id  corrected_percent  left_bound  right_bound\n",
      "0        0           0.167419    0.099206     0.235633\n",
      "1        1           0.215345    0.146918     0.283773\n",
      "2        2           0.001924    0.000000     0.010934\n",
      "3        3           0.004057    0.000000     0.026352\n",
      "4        4           0.000000    0.000000     0.021265\n",
      "..     ...                ...         ...          ...\n",
      "88      88           0.272830    0.205506     0.340154\n",
      "89      89           0.326350    0.240652     0.412048\n",
      "90      90           0.137460    0.078875     0.196046\n",
      "91      91           0.049617    0.007245     0.091990\n",
      "92      92           0.174855    0.102265     0.247445\n",
      "\n",
      "[93 rows x 4 columns]\n"
     ]
    }
   ],
   "source": [
    "# Number of samples in each cluster that belong to the non-target class\n",
    "df_cluster_error_matrix['sample_count0'] = df_cluster_error_matrix['a11']+df_cluster_error_matrix['a12'] \n",
    "\n",
    "# Number of samples in each cluster that belong to the target class\n",
    "df_cluster_error_matrix['sample_count1'] = df_cluster_error_matrix['a21'] + df_cluster_error_matrix['a22'] \n",
    "\n",
    "# Total number of samples in each cluster\n",
    "df_cluster_error_matrix['sample_count'] = df_cluster_error_matrix['sample_count0'] + df_cluster_error_matrix['sample_count1'] \n",
    "\n",
    "# Total pixel count in each cluster\n",
    "df_cluster_gram['size'] = df_cluster_gram['num0']+df_cluster_gram['num1'] \n",
    "\n",
    "cluster_mean = file_cluster_mean[[\"clusterID\",\"B2\",\"B3\",\"B4\",\"B5\",\"B6\",\"B7\",\"B8\",\"B8A\",\"B11\",\"B12\",\"NDVI\",\"lda\"]]\n",
    "\n",
    "# Merge cluster composition, confusion matrix, and cluster center data\n",
    "join_lines = pd.merge(pd.merge(df_cluster_gram,df_cluster_error_matrix,on='clusterID',how='left'),cluster_mean,on='clusterID',how='left') \n",
    "# join_lines columns: [[\"clusterID\",\"num0\",\"num1\",\"size\",\"a11\",\"a12\",\"a21\",\"a22\",\"sample_count0\",\"sample_count1\",\"sample_count\",\"B2\",\"B3\",\"B4\",\"B5\",\"B6\",\"B7\",\"B8\",\"B8A\",\"B11\",\"B12\",\"NDVI\",\"lda\"]]\n",
    "\n",
    "# Merged clusters with their attributes\n",
    "merged_df = merge_clusters(join_lines) \n",
    "\n",
    "# print(merged_df)\n",
    "\n",
    "# Calculate the random variance for each cluster\n",
    "merged_df['wh0'] = merged_df['num0']/merged_df['size']\n",
    "merged_df['wh1'] = merged_df['num1'] / merged_df['size']\n",
    "merged_df['s0_square'] = merged_df['a11']/merged_df['sample_count0']*(merged_df['a12']/merged_df['sample_count0'])*merged_df['sample_count0']/(merged_df['sample_count0']-1)\n",
    "merged_df['s1_square'] = merged_df['a21']/merged_df['sample_count1']*(merged_df['a22']/merged_df['sample_count1'])*merged_df['sample_count1']/(merged_df['sample_count1']-1)\n",
    "merged_df['sampling_var'] = merged_df.apply(lambda row: 1/row['sample_count']*(row['wh0']*row['s0_square']+row['wh1']*row['s1_square'])+1/(row['sample_count']*row['sample_count'])*((1-row['wh0'])*row['s0_square']+(1-row['wh1'])*row['s1_square']) if row['sample_count0']>=2 and row['sample_count1']>=2\n",
    "                                            else (row['a11']+row['a21'])/row['sample_count']*(1-((row['a11']+row['a21'])/row['sample_count']))/ (row['sample_count']-1),axis=1)\n",
    "\n",
    "# Used to store the merged count of each cluster in each county\n",
    "percent_df = df_cluster_percent[['obj_id']].copy() \n",
    "\n",
    "# Loop through the merged_df's merged_clusters column, merge the corresponding columns from df_cluster_percent, and store in percent_df\n",
    "for _, row in merged_df.iterrows():\n",
    "    cluster_id = row['merged_clusters'][0]        # Use the first element of merged_clusters as the new column name\n",
    "    cluster_ids_to_merge = row['merged_clusters']\n",
    "    percent_df[cluster_id] = df_cluster_percent[cluster_ids_to_merge].sum(axis=1) # Merge corresponding columns\n",
    "\n",
    "# print(percent_df)\n",
    "\n",
    "# Calculate the proportion of each cluster in each county\n",
    "columns_to_normalize = percent_df.columns[1:] # Columns to be normalized\n",
    "percent_df['total'] = percent_df[columns_to_normalize].sum(axis=1) # Sum the columns to be normalized as the denominator for normalization\n",
    "\n",
    "# Create a DataFrame containing only obj_id\n",
    "region_df = percent_df[['obj_id']].copy() \n",
    "\n",
    "# Add the proportion of each cluster to region_df\n",
    "for col in columns_to_normalize:\n",
    "    region_df[f'{col}_percent'] = percent_df[col] / percent_df['total']\n",
    "\n",
    "# Adjust the format of region_df to create region_long\n",
    "region_long = pd.melt(\n",
    "    region_df,\n",
    "    id_vars = ['obj_id'],\n",
    "    var_name = 'cluster_column',\n",
    "    value_name = 'weight'\n",
    ")\n",
    "# Extract clusterID as the key for joining tables\n",
    "region_long['clusterID'] = region_long['cluster_column'].str.extract(r'(\\d+)')\n",
    "\n",
    "# Correct the confusion matrix\n",
    "corrected_df = process_matrix(merged_df)\n",
    "\n",
    "# Merge the two DataFrames\n",
    "weighted_df = pd.merge(region_long, corrected_df, on='clusterID')\n",
    "\n",
    "\n",
    "# Apply weighted confusion matrix and calculate the random variance for each cluster\n",
    "weighted_df['weighted_p11'] = weighted_df['weight'] * weighted_df['p11']\n",
    "weighted_df['weighted_p12'] = weighted_df['weight'] * weighted_df['p12']\n",
    "weighted_df['weighted_p21'] = weighted_df['weight'] * weighted_df['p21']\n",
    "weighted_df['weighted_p22'] = weighted_df['weight'] * weighted_df['p22']\n",
    "weighted_df['total_sampling_var'] = weighted_df['weight']**2 * weighted_df['sampling_var']\n",
    "\n",
    "# Group by obj_id and sum the results to get result_df\n",
    "county_matrix_df = weighted_df.groupby('obj_id').agg({\n",
    "    'weighted_p11': 'sum',\n",
    "    'weighted_p12': 'sum',\n",
    "    'weighted_p21': 'sum',\n",
    "    'weighted_p22': 'sum',\n",
    "    'total_sampling_var': 'sum'\n",
    "}).reset_index()\n",
    "\n",
    "# Classification area for each county\n",
    "county_area = df_cla_percent[[\"obj_id\",\"classify_percent\"]] \n",
    "\n",
    "# Merge the corrected confusion matrix with classification area for each county\n",
    "result_df = pd.merge(county_matrix_df, county_area, on='obj_id', how='left') \n",
    "\n",
    "# Corrected area\n",
    "result_df['corrected_percent'] = result_df['classify_percent'] + result_df['weighted_p12'] - result_df['weighted_p21'] \n",
    "\n",
    "# Force corrected area to be 0 if it's less than 0\n",
    "result_df['corrected_percent'] = result_df['corrected_percent'].apply(lambda x: max(0, x)) \n",
    "\n",
    "# Calculate downscale variance\n",
    "result_df['down_variance'] = ((result_df['weighted_p12'] - result_df['weighted_p21']).abs() / prior) ** 2 \n",
    "\n",
    "# Calculate total standard deviation\n",
    "result_df['total_std'] = np.sqrt(result_df['total_sampling_var'] + result_df['down_variance']) \n",
    "\n",
    "# Calculate the left bound of the confidence interval\n",
    "result_df['left_bound'] = result_df['corrected_percent'] - z * result_df['total_std'] \n",
    "result_df['left_bound'] = result_df['left_bound'].apply(lambda x: max(0, x)) \n",
    "\n",
    "# Calculate the right bound of the confidence interval\n",
    "result_df['right_bound'] = result_df['corrected_percent'] + z * result_df['total_std'] \n",
    "result_df['right_bound'] = result_df['right_bound'].apply(lambda x: min(1, x))\n",
    "\n",
    "# output of BAESCM\n",
    "print(result_df[['obj_id','corrected_percent','left_bound','right_bound']])\n",
    "\n",
    "# 'obj_id' refers to the subregion ID, 'corrected_percent' refers to the corrected area of the subregion\n",
    "# 'left_bound' and 'right_bound' refer to the left and right boundaries of confidence interval\n"
   ]
  },
  {
   "cell_type": "code",
   "execution_count": 29,
   "id": "446bb618-9912-450a-8649-9b64f78bf966",
   "metadata": {},
   "outputs": [
    {
     "data": {
      "text/html": [
       "\n",
       "            <style>\n",
       "                .geemap-dark {\n",
       "                    --jp-widgets-color: white;\n",
       "                    --jp-widgets-label-color: white;\n",
       "                    --jp-ui-font-color1: white;\n",
       "                    --jp-layout-color2: #454545;\n",
       "                    background-color: #383838;\n",
       "                }\n",
       "                    \n",
       "                .geemap-dark .jupyter-button {\n",
       "                    --jp-layout-color3: #383838;\n",
       "                }\n",
       "                \n",
       "                .geemap-colab {\n",
       "                    background-color: var(--colab-primary-surface-color, white);\n",
       "                }\n",
       "                    \n",
       "                .geemap-colab .jupyter-button {\n",
       "                    --jp-layout-color3: var(--colab-primary-surface-color, white);\n",
       "                }\n",
       "            </style>\n",
       "            "
      ],
      "text/plain": [
       "<IPython.core.display.HTML object>"
      ]
     },
     "metadata": {},
     "output_type": "display_data"
    }
   ],
   "source": [
    "import openpyxl\n",
    "result_df.to_excel(\"output.xlsx\", index=False) "
   ]
  },
  {
   "cell_type": "code",
   "execution_count": null,
   "id": "d691d3c6-f817-41fb-bce2-abeb108f16e7",
   "metadata": {},
   "outputs": [],
   "source": []
  }
 ],
 "metadata": {
  "kernelspec": {
   "display_name": "Python 3 (ipykernel)",
   "language": "python",
   "name": "python3"
  },
  "language_info": {
   "codemirror_mode": {
    "name": "ipython",
    "version": 3
   },
   "file_extension": ".py",
   "mimetype": "text/x-python",
   "name": "python",
   "nbconvert_exporter": "python",
   "pygments_lexer": "ipython3",
   "version": "3.12.1"
  }
 },
 "nbformat": 4,
 "nbformat_minor": 5
}
